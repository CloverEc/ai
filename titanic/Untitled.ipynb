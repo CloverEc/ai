{
 "cells": [
  {
   "cell_type": "code",
   "execution_count": 3,
   "metadata": {},
   "outputs": [
    {
     "name": "stdout",
     "output_type": "stream",
     "text": [
      "gender_submission.csv\n",
      "test.csv\n",
      "train.csv\n",
      "\n"
     ]
    }
   ],
   "source": [
    "# This Python 3 environment comes with many helpful analytics libraries installed\n",
    "# It is defined by the kaggle/python docker image: https://github.com/kaggle/docker-python\n",
    "# For example, here's several helpful packages to load in \n",
    "\n",
    "import numpy as np # linear algebra\n",
    "import pandas as pd # data processing, CSV file I/O (e.g. pd.read_csv)\n",
    "\n",
    "# Input data files are available in the \"../input/\" directory.\n",
    "# For example, running this (by clicking run or pressing Shift+Enter) will list the files in the input directory\n",
    "\n",
    "from subprocess import check_output\n",
    "print(check_output([\"ls\", \"../input\"]).decode(\"utf8\"))\n",
    "\n",
    "# Any results you write to the current directory are saved as output.\n"
   ]
  },
  {
   "cell_type": "code",
   "execution_count": 4,
   "metadata": {},
   "outputs": [
    {
     "name": "stdout",
     "output_type": "stream",
     "text": [
      "     Pclass  Sex   Age\n",
      "0         3    1  34.5\n",
      "1         3    0  47.0\n",
      "2         2    1  62.0\n",
      "3         3    1  27.0\n",
      "4         3    0  22.0\n",
      "5         3    1  14.0\n",
      "6         3    0  30.0\n",
      "7         2    1  26.0\n",
      "8         3    0  18.0\n",
      "9         3    1  21.0\n",
      "10        3    1   0.0\n",
      "11        1    1  46.0\n",
      "12        1    0  23.0\n",
      "13        2    1  63.0\n",
      "14        1    0  47.0\n",
      "15        2    0  24.0\n",
      "16        2    1  35.0\n",
      "17        3    1  21.0\n",
      "18        3    0  27.0\n",
      "19        3    0  45.0\n",
      "20        1    1  55.0\n",
      "21        3    1   9.0\n",
      "22        1    0   0.0\n",
      "23        1    1  21.0\n",
      "24        1    0  48.0\n",
      "25        3    1  50.0\n",
      "26        1    0  22.0\n",
      "27        3    1  22.5\n",
      "28        1    1  41.0\n",
      "29        3    1   0.0\n",
      "..      ...  ...   ...\n",
      "388       3    1  21.0\n",
      "389       3    1   6.0\n",
      "390       1    1  23.0\n",
      "391       1    0  51.0\n",
      "392       3    1  13.0\n",
      "393       2    1  47.0\n",
      "394       3    1  29.0\n",
      "395       1    0  18.0\n",
      "396       3    1  24.0\n",
      "397       1    0  48.0\n",
      "398       3    1  22.0\n",
      "399       3    1  31.0\n",
      "400       1    0  30.0\n",
      "401       2    1  38.0\n",
      "402       1    0  22.0\n",
      "403       1    1  17.0\n",
      "404       1    1  43.0\n",
      "405       2    1  20.0\n",
      "406       2    1  23.0\n",
      "407       1    1  50.0\n",
      "408       3    0   0.0\n",
      "409       3    0   3.0\n",
      "410       3    0   0.0\n",
      "411       1    0  37.0\n",
      "412       3    0  28.0\n",
      "413       3    1   0.0\n",
      "414       1    0  39.0\n",
      "415       3    1  38.5\n",
      "416       3    1   0.0\n",
      "417       3    1   0.0\n",
      "\n",
      "[418 rows x 3 columns]\n"
     ]
    }
   ],
   "source": [
    "dataset=pd.read_csv('../input/train.csv')\n",
    "testset=pd.read_csv('../input/test.csv')\n",
    "label=dataset.iloc[0:890,1]\n",
    "data=dataset.iloc[0:890,[2,4,5]]\n",
    "testdat=testset.iloc[0:418,[1,3,4]]\n",
    "x=[data,testdat]\n",
    "\n",
    "for change in x:\n",
    "    change['Sex']=change['Sex'].map({'female':0,'male':1}).astype(int)\n",
    "    \n",
    "\n",
    "data=(data.fillna(0)) #filling NA values\n",
    "testdat=testdat.fillna(0)\n",
    "print(testdat)\n"
   ]
  },
  {
   "cell_type": "code",
   "execution_count": 7,
   "metadata": {},
   "outputs": [],
   "source": [
    "from sklearn.model_selection import train_test_split\n",
    "\n",
    "train_data,test_data,train_labels,test_labels=train_test_split(data,label,random_state=7,train_size=0.7)\n"
   ]
  },
  {
   "cell_type": "code",
   "execution_count": 8,
   "metadata": {},
   "outputs": [
    {
     "data": {
      "text/plain": [
       "KNeighborsClassifier(algorithm='auto', leaf_size=30, metric='minkowski',\n",
       "                     metric_params=None, n_jobs=None, n_neighbors=5, p=2,\n",
       "                     weights='uniform')"
      ]
     },
     "execution_count": 8,
     "metadata": {},
     "output_type": "execute_result"
    }
   ],
   "source": [
    "from sklearn.neighbors import KNeighborsClassifier\n",
    "clf=KNeighborsClassifier()\n",
    "clf.fit(data,label)\n"
   ]
  },
  {
   "cell_type": "code",
   "execution_count": 9,
   "metadata": {},
   "outputs": [],
   "source": [
    "predictions=clf.predict(test_data)"
   ]
  },
  {
   "cell_type": "code",
   "execution_count": 10,
   "metadata": {},
   "outputs": [
    {
     "name": "stdout",
     "output_type": "stream",
     "text": [
      "0.8239700374531835\n"
     ]
    }
   ],
   "source": [
    "from sklearn.metrics import accuracy_score\n",
    "print(accuracy_score(test_labels,predictions))\n"
   ]
  },
  {
   "cell_type": "code",
   "execution_count": null,
   "metadata": {},
   "outputs": [],
   "source": []
  }
 ],
 "metadata": {
  "kernelspec": {
   "display_name": "Python 3",
   "language": "python",
   "name": "python3"
  },
  "language_info": {
   "codemirror_mode": {
    "name": "ipython",
    "version": 3
   },
   "file_extension": ".py",
   "mimetype": "text/x-python",
   "name": "python",
   "nbconvert_exporter": "python",
   "pygments_lexer": "ipython3",
   "version": "3.6.1"
  }
 },
 "nbformat": 4,
 "nbformat_minor": 2
}
